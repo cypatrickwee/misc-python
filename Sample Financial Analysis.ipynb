{
 "cells": [
  {
   "cell_type": "code",
   "execution_count": 1,
   "metadata": {},
   "outputs": [],
   "source": [
    "#import necessary libraries\n",
    "import pandas as pd\n",
    "import numpy as np\n",
    "import seaborn as sns"
   ]
  },
  {
   "cell_type": "code",
   "execution_count": 2,
   "metadata": {},
   "outputs": [],
   "source": [
    "#Data Set\n",
    "revenue = [14574.49, 7606.46, 8611.41, 9175.41, 8058.65, 8105.44, 11496.28, 9766.09, 10305.32, 14379.96, 10713.97, 15433.50]\n",
    "expenses = [12051.82, 5695.07, 12319.20, 12089.72, 8658.57, 840.20, 3285.73, 5821.12, 6976.93, 16618.61, 10054.37, 3803.96]"
   ]
  },
  {
   "cell_type": "code",
   "execution_count": 3,
   "metadata": {},
   "outputs": [],
   "source": [
    "#Global Variables\n",
    "numOfMonths = len(revenue)\n",
    "months = ['Jan','Feb','Mar','Apr','May','Jun','Jul','Aug','Sep','Oct','Nov','Dec']"
   ]
  },
  {
   "cell_type": "code",
   "execution_count": 4,
   "metadata": {},
   "outputs": [],
   "source": [
    "#calculate the profit\n",
    "profits = [];\n",
    "for i in range(len(revenue)):\n",
    "    profit = revenue[i]-expenses[i];\n",
    "    profits.append(profit);\n",
    "\n",
    "#https://stackoverflow.com/questions/24260582/python-map-object-at\n",
    "normalized_profits = map(lambda x: round(x,2), profits) #the 2 refer to the number of decimal point\n",
    "#we need to use list/else it print the memory address\n",
    "normalized_profits = list(normalized_profits)"
   ]
  },
  {
   "cell_type": "code",
   "execution_count": 5,
   "metadata": {
    "scrolled": true
   },
   "outputs": [
    {
     "data": {
      "text/html": [
       "<div>\n",
       "<style scoped>\n",
       "    .dataframe tbody tr th:only-of-type {\n",
       "        vertical-align: middle;\n",
       "    }\n",
       "\n",
       "    .dataframe tbody tr th {\n",
       "        vertical-align: top;\n",
       "    }\n",
       "\n",
       "    .dataframe thead th {\n",
       "        text-align: right;\n",
       "    }\n",
       "</style>\n",
       "<table border=\"1\" class=\"dataframe\">\n",
       "  <thead>\n",
       "    <tr style=\"text-align: right;\">\n",
       "      <th></th>\n",
       "      <th>months</th>\n",
       "      <th>revenue</th>\n",
       "      <th>expenses</th>\n",
       "      <th>gross-profit</th>\n",
       "      <th>sign</th>\n",
       "    </tr>\n",
       "  </thead>\n",
       "  <tbody>\n",
       "    <tr>\n",
       "      <th>0</th>\n",
       "      <td>Jan</td>\n",
       "      <td>14574.49</td>\n",
       "      <td>12051.82</td>\n",
       "      <td>2522.67</td>\n",
       "      <td>True</td>\n",
       "    </tr>\n",
       "    <tr>\n",
       "      <th>1</th>\n",
       "      <td>Feb</td>\n",
       "      <td>7606.46</td>\n",
       "      <td>5695.07</td>\n",
       "      <td>1911.39</td>\n",
       "      <td>True</td>\n",
       "    </tr>\n",
       "    <tr>\n",
       "      <th>2</th>\n",
       "      <td>Mar</td>\n",
       "      <td>8611.41</td>\n",
       "      <td>12319.20</td>\n",
       "      <td>-3707.79</td>\n",
       "      <td>False</td>\n",
       "    </tr>\n",
       "    <tr>\n",
       "      <th>3</th>\n",
       "      <td>Apr</td>\n",
       "      <td>9175.41</td>\n",
       "      <td>12089.72</td>\n",
       "      <td>-2914.31</td>\n",
       "      <td>False</td>\n",
       "    </tr>\n",
       "    <tr>\n",
       "      <th>4</th>\n",
       "      <td>May</td>\n",
       "      <td>8058.65</td>\n",
       "      <td>8658.57</td>\n",
       "      <td>-599.92</td>\n",
       "      <td>False</td>\n",
       "    </tr>\n",
       "    <tr>\n",
       "      <th>5</th>\n",
       "      <td>Jun</td>\n",
       "      <td>8105.44</td>\n",
       "      <td>840.20</td>\n",
       "      <td>7265.24</td>\n",
       "      <td>True</td>\n",
       "    </tr>\n",
       "    <tr>\n",
       "      <th>6</th>\n",
       "      <td>Jul</td>\n",
       "      <td>11496.28</td>\n",
       "      <td>3285.73</td>\n",
       "      <td>8210.55</td>\n",
       "      <td>True</td>\n",
       "    </tr>\n",
       "    <tr>\n",
       "      <th>7</th>\n",
       "      <td>Aug</td>\n",
       "      <td>9766.09</td>\n",
       "      <td>5821.12</td>\n",
       "      <td>3944.97</td>\n",
       "      <td>True</td>\n",
       "    </tr>\n",
       "    <tr>\n",
       "      <th>8</th>\n",
       "      <td>Sep</td>\n",
       "      <td>10305.32</td>\n",
       "      <td>6976.93</td>\n",
       "      <td>3328.39</td>\n",
       "      <td>True</td>\n",
       "    </tr>\n",
       "    <tr>\n",
       "      <th>9</th>\n",
       "      <td>Oct</td>\n",
       "      <td>14379.96</td>\n",
       "      <td>16618.61</td>\n",
       "      <td>-2238.65</td>\n",
       "      <td>False</td>\n",
       "    </tr>\n",
       "    <tr>\n",
       "      <th>10</th>\n",
       "      <td>Nov</td>\n",
       "      <td>10713.97</td>\n",
       "      <td>10054.37</td>\n",
       "      <td>659.60</td>\n",
       "      <td>True</td>\n",
       "    </tr>\n",
       "    <tr>\n",
       "      <th>11</th>\n",
       "      <td>Dec</td>\n",
       "      <td>15433.50</td>\n",
       "      <td>3803.96</td>\n",
       "      <td>11629.54</td>\n",
       "      <td>True</td>\n",
       "    </tr>\n",
       "  </tbody>\n",
       "</table>\n",
       "</div>"
      ],
      "text/plain": [
       "   months   revenue  expenses  gross-profit   sign\n",
       "0     Jan  14574.49  12051.82       2522.67   True\n",
       "1     Feb   7606.46   5695.07       1911.39   True\n",
       "2     Mar   8611.41  12319.20      -3707.79  False\n",
       "3     Apr   9175.41  12089.72      -2914.31  False\n",
       "4     May   8058.65   8658.57       -599.92  False\n",
       "5     Jun   8105.44    840.20       7265.24   True\n",
       "6     Jul  11496.28   3285.73       8210.55   True\n",
       "7     Aug   9766.09   5821.12       3944.97   True\n",
       "8     Sep  10305.32   6976.93       3328.39   True\n",
       "9     Oct  14379.96  16618.61      -2238.65  False\n",
       "10    Nov  10713.97  10054.37        659.60   True\n",
       "11    Dec  15433.50   3803.96      11629.54   True"
      ]
     },
     "execution_count": 5,
     "metadata": {},
     "output_type": "execute_result"
    }
   ],
   "source": [
    "#converting to numpy array\n",
    "#print(np.array(normalized_profits))\n",
    "\n",
    "sign = map(lambda x: x>0, normalized_profits)\n",
    "sign = list(sign)\n",
    "#create pandas dataframe manually\n",
    "d = {'months':months,'revenue':revenue, 'expenses':expenses,'gross-profit': normalized_profits, 'sign':sign}\n",
    "df_financial = pd.DataFrame(data=d)\n",
    "df_financial"
   ]
  },
  {
   "cell_type": "code",
   "execution_count": 6,
   "metadata": {},
   "outputs": [
    {
     "data": {
      "text/plain": [
       "<matplotlib.axes._subplots.AxesSubplot at 0x7f5b302b4860>"
      ]
     },
     "execution_count": 6,
     "metadata": {},
     "output_type": "execute_result"
    },
    {
     "data": {
      "image/png": "[encoded data removed]",
      "text/plain": [
       "<Figure size 432x288 with 1 Axes>"
      ]
     },
     "metadata": {
      "needs_background": "light"
     },
     "output_type": "display_data"
    }
   ],
   "source": [
    "#perform visualization\n",
    "#sns.catplot('months', data=df_financial, kind='count', hue='sign')\n",
    "sns.lineplot(x=\"months\", y=\"gross-profit\", data=df_financial, sort=False)"
   ]
  },
  {
   "cell_type": "code",
   "execution_count": null,
   "metadata": {},
   "outputs": [],
   "source": []
  },
  {
   "cell_type": "code",
   "execution_count": null,
   "metadata": {},
   "outputs": [],
   "source": []
  }
 ],
 "metadata": {
  "kernelspec": {
   "display_name": "Python 3",
   "language": "python",
   "name": "python3"
  },
  "language_info": {
   "codemirror_mode": {
    "name": "ipython",
    "version": 3
   },
   "file_extension": ".py",
   "mimetype": "text/x-python",
   "name": "python",
   "nbconvert_exporter": "python",
   "pygments_lexer": "ipython3",
   "version": "3.7.0"
  }
 },
 "nbformat": 4,
 "nbformat_minor": 2
}
